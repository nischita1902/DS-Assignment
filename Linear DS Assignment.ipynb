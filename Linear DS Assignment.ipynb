{
  "nbformat": 4,
  "nbformat_minor": 0,
  "metadata": {
    "colab": {
      "provenance": []
    },
    "kernelspec": {
      "name": "python3",
      "display_name": "Python 3"
    },
    "language_info": {
      "name": "python"
    }
  },
  "cells": [
    {
      "cell_type": "code",
      "execution_count": 1,
      "metadata": {
        "colab": {
          "base_uri": "https://localhost:8080/"
        },
        "id": "RdXlF9Lyl-Is",
        "outputId": "e97e6c11-a988-4ea0-a204-e834c258a21a"
      },
      "outputs": [
        {
          "output_type": "stream",
          "name": "stdout",
          "text": [
            "Pairs with sum 10: [(7, 3), (9, 1)]\n"
          ]
        }
      ],
      "source": [
        "def find_pairs_with_sum(arr, target_sum):\n",
        "    pairs = []\n",
        "    seen = set()\n",
        "\n",
        "    for num in arr:\n",
        "        complement = target_sum - num\n",
        "        if complement in seen:\n",
        "            pairs.append((num, complement))\n",
        "        seen.add(num)\n",
        "\n",
        "    return pairs\n",
        "\n",
        "arr = [2, 4, 3, 7, 1, 5, 9]\n",
        "target_sum = 10\n",
        "result = find_pairs_with_sum(arr, target_sum)\n",
        "\n",
        "print(f\"Pairs with sum {target_sum}: {result}\")\n"
      ]
    },
    {
      "cell_type": "code",
      "source": [
        "def reverse_array(arr):\n",
        "    left , right = 0 , len(arr) -1\n",
        "\n",
        "    while left < right:\n",
        "      arr[left], arr[right] = arr[right] , arr[left]\n",
        "      left += 1\n",
        "      right -= 1\n",
        "\n",
        "arr = [1,2,3,4,5,6]\n",
        "print(\"Orignal array is: \",arr)\n",
        "\n",
        "reverse_array(arr)\n",
        "print(\"Reversed array is: \",arr)"
      ],
      "metadata": {
        "colab": {
          "base_uri": "https://localhost:8080/"
        },
        "id": "stvnC6CWmXIn",
        "outputId": "b0dbc7cf-8576-4b13-e37d-35ae4f7e2024"
      },
      "execution_count": 2,
      "outputs": [
        {
          "output_type": "stream",
          "name": "stdout",
          "text": [
            "Orignal array is:  [1, 2, 3, 4, 5, 6]\n",
            "Reversed array is:  [6, 5, 4, 3, 2, 1]\n"
          ]
        }
      ]
    },
    {
      "cell_type": "code",
      "source": [
        "def rotation(str1, str2):\n",
        "    if len(str1) != len(str2):\n",
        "        return False\n",
        "    temp = str1 + str1\n",
        "    if str2 in temp:\n",
        "        return True\n",
        "    return False\n",
        "\n",
        "string1 = \"abcdef\"\n",
        "string2 = \"defabc\"\n",
        "\n",
        "if rotation(string1, string2):\n",
        "    print(\"Strings are rotations of each other.\")\n",
        "\n",
        "else:\n",
        "    print(\"Strings are not rotations of each other.\")"
      ],
      "metadata": {
        "colab": {
          "base_uri": "https://localhost:8080/"
        },
        "id": "ZWSQxxdTmvbp",
        "outputId": "7f07b195-1a72-4017-d0b1-2f88bc614a6c"
      },
      "execution_count": 3,
      "outputs": [
        {
          "output_type": "stream",
          "name": "stdout",
          "text": [
            "Strings are rotations of each other.\n"
          ]
        }
      ]
    },
    {
      "cell_type": "code",
      "source": [
        "def non_repeated_char(s):\n",
        "     char_count = {}\n",
        "\n",
        "     for char in s:\n",
        "         if char in char_count:\n",
        "              char_count[char] += 1\n",
        "         else:\n",
        "              char_count[char] = 1\n",
        "\n",
        "     for char in s:\n",
        "         if char_count[char] == 1:\n",
        "             return char\n",
        "\n",
        "     return None\n",
        "\n",
        "string = \"abcdbe\"\n",
        "\n",
        "result = non_repeated_char(string)\n",
        "\n",
        "if result:\n",
        "     print(f\"The first non-repeated character is : {result}\")\n",
        "\n",
        "else:\n",
        "    print(f\"There iis no-repeated character in the string.\")"
      ],
      "metadata": {
        "colab": {
          "base_uri": "https://localhost:8080/"
        },
        "id": "HR1jibPEmy7h",
        "outputId": "4b7fa635-7e8e-4cbe-f5c6-7e29bbe8643f"
      },
      "execution_count": 4,
      "outputs": [
        {
          "output_type": "stream",
          "name": "stdout",
          "text": [
            "The first non-repeated character is : a\n"
          ]
        }
      ]
    },
    {
      "cell_type": "code",
      "source": [
        "def tower_of_hanoi(n, source, auxiliary, target):\n",
        "    if n == 1:\n",
        "        print(f\"Disk 1 moved from {source} to {target}\")\n",
        "        return\n",
        "    tower_of_hanoi(n - 1, source, target, auxiliary)\n",
        "    print(f\"Disk {n} moved from {source} to {target}\")\n",
        "    tower_of_hanoi(n - 1, auxiliary, source, target)\n",
        "\n",
        "\n",
        "num_disks = 3\n",
        "tower_of_hanoi(num_disks, 'A', 'B', 'C')\n"
      ],
      "metadata": {
        "colab": {
          "base_uri": "https://localhost:8080/"
        },
        "id": "TfxWsUtum77_",
        "outputId": "be78150a-047d-480a-a0b9-0ec00a95b10b"
      },
      "execution_count": 5,
      "outputs": [
        {
          "output_type": "stream",
          "name": "stdout",
          "text": [
            "Disk 1 moved from A to C\n",
            "Disk 2 moved from A to B\n",
            "Disk 1 moved from C to B\n",
            "Disk 3 moved from A to C\n",
            "Disk 1 moved from B to A\n",
            "Disk 2 moved from B to C\n",
            "Disk 1 moved from A to C\n"
          ]
        }
      ]
    },
    {
      "cell_type": "code",
      "source": [
        "def is_operator(char):\n",
        "    return char in \"+-*/\"\n",
        "\n",
        "def postfix_to_prefix(postfix):\n",
        "     stack = []\n",
        "\n",
        "     for char in postfix:\n",
        "         if not is_operator(char):\n",
        "             stack.append(char)\n",
        "         else:\n",
        "             operand2 = stack.pop()\n",
        "             operand1 = stack.pop()\n",
        "             expression = char + operand1 + operand2\n",
        "             stack.append(expression)\n",
        "     return stack[0]\n",
        "\n",
        "postfix_expression = \"34+5*\"\n",
        "prefix_expression = postfix_to_prefix(postfix_expression)\n",
        "print(\"Prefix Expression:\", prefix_expression)\n"
      ],
      "metadata": {
        "colab": {
          "base_uri": "https://localhost:8080/"
        },
        "id": "srECvH6CnCB3",
        "outputId": "279bad4d-43bf-4802-f4ed-f066c0d66bda"
      },
      "execution_count": 6,
      "outputs": [
        {
          "output_type": "stream",
          "name": "stdout",
          "text": [
            "Prefix Expression: *+345\n"
          ]
        }
      ]
    },
    {
      "cell_type": "code",
      "source": [
        "def is_operator(char):\n",
        "    return char in \"+-*/\"\n",
        "\n",
        "def prefix_to_infix(prefix):\n",
        "    stack = []\n",
        "\n",
        "    for char in reversed(prefix):\n",
        "        if not is_operator(char):\n",
        "            stack.append(char)\n",
        "        else:\n",
        "            operand1 = stack.pop()\n",
        "            operand2 = stack.pop()\n",
        "            expression = f\"({operand1}{char}{operand2})\"\n",
        "            stack.append(expression)\n",
        "\n",
        "    return stack[0]\n",
        "\n",
        "\n",
        "prefix_expression = \"*+AB-CD\"\n",
        "infix_expression = prefix_to_infix(prefix_expression)\n",
        "print(\"Infix Expression:\", infix_expression)\n"
      ],
      "metadata": {
        "colab": {
          "base_uri": "https://localhost:8080/"
        },
        "id": "iM2S5pH4nRIo",
        "outputId": "769f4fcd-eced-4b5c-887f-6133a4c7d8ff"
      },
      "execution_count": 7,
      "outputs": [
        {
          "output_type": "stream",
          "name": "stdout",
          "text": [
            "Infix Expression: ((A+B)*(C-D))\n"
          ]
        }
      ]
    },
    {
      "cell_type": "code",
      "source": [
        "def are_brackets_balanced(code):\n",
        "    stack = []\n",
        "    bracket_pairs = {')': '(', '}': '{', ']': '['}\n",
        "\n",
        "    for char in code:\n",
        "        if char in '({[':\n",
        "            stack.append(char)\n",
        "        elif char in ')}]':\n",
        "            if not stack or stack[-1] != bracket_pairs[char]:\n",
        "                return False\n",
        "            stack.pop()\n",
        "\n",
        "    return not stack\n",
        "\n",
        "\n",
        "code_snippet = \"(a + b) * [c - {d / e}]\"\n",
        "if are_brackets_balanced(code_snippet):\n",
        "    print(\"All brackets are properly closed.\")\n",
        "else:\n",
        "    print(\"Brackets are not properly closed.\")\n"
      ],
      "metadata": {
        "colab": {
          "base_uri": "https://localhost:8080/"
        },
        "id": "lVUpQTF0na5X",
        "outputId": "83c0c424-e763-4a99-9eac-2ea087191fe0"
      },
      "execution_count": 8,
      "outputs": [
        {
          "output_type": "stream",
          "name": "stdout",
          "text": [
            "All brackets are properly closed.\n"
          ]
        }
      ]
    },
    {
      "cell_type": "code",
      "source": [
        "class Stack:\n",
        "    def __init__(self):\n",
        "        self.items = []\n",
        "\n",
        "    def push(self, item):\n",
        "        self.items.append(item)\n",
        "\n",
        "    def pop(self):\n",
        "        if not self.is_empty():\n",
        "            return self.items.pop()\n",
        "        else:\n",
        "            return None\n",
        "\n",
        "    def peek(self):\n",
        "        if not self.is_empty():\n",
        "            return self.items[-1]\n",
        "        else:\n",
        "            return None\n",
        "\n",
        "    def is_empty(self):\n",
        "        return len(self.items) == 0\n",
        "\n",
        "    def size(self):\n",
        "        return len(self.items)\n",
        "\n",
        "\n",
        "def reverse_stack(stack):\n",
        "    if not stack.is_empty():\n",
        "        temp = stack.pop()\n",
        "        reverse_stack(stack)\n",
        "        insert_at_bottom(stack, temp)\n",
        "\n",
        "\n",
        "def insert_at_bottom(stack, item):\n",
        "    if stack.is_empty():\n",
        "        stack.push(item)\n",
        "    else:\n",
        "        temp = stack.pop()\n",
        "        insert_at_bottom(stack, item)\n",
        "        stack.push(temp)\n",
        "\n",
        "\n",
        "if __name__ == \"__main__\":\n",
        "    my_stack = Stack()\n",
        "    my_stack.push(1)\n",
        "    my_stack.push(2)\n",
        "    my_stack.push(3)\n",
        "    my_stack.push(4)\n",
        "\n",
        "    print(\"Original Stack is:\", my_stack.items)\n",
        "    reverse_stack(my_stack)\n",
        "    print(\"Reversed Stack is:\", my_stack.items)\n"
      ],
      "metadata": {
        "colab": {
          "base_uri": "https://localhost:8080/"
        },
        "id": "bfcfG2jHngxt",
        "outputId": "bbd544f6-2133-4df7-ce39-97590e4b503d"
      },
      "execution_count": 9,
      "outputs": [
        {
          "output_type": "stream",
          "name": "stdout",
          "text": [
            "Original Stack is: [1, 2, 3, 4]\n",
            "Reversed Stack is: [4, 3, 2, 1]\n"
          ]
        }
      ]
    },
    {
      "cell_type": "code",
      "source": [
        "class Stack:\n",
        "    def __init__(self):\n",
        "        self.items = []\n",
        "\n",
        "    def push(self, item):\n",
        "        self.items.append(item)\n",
        "\n",
        "    def pop(self):\n",
        "        if not self.is_empty():\n",
        "            return self.items.pop()\n",
        "        else:\n",
        "            return None\n",
        "\n",
        "    def peek(self):\n",
        "        if not self.is_empty():\n",
        "            return self.items[-1]\n",
        "        else:\n",
        "            return None\n",
        "\n",
        "    def is_empty(self):\n",
        "        return len(self.items) == 0\n",
        "\n",
        "    def size(self):\n",
        "        return len(self.items)\n",
        "\n",
        "\n",
        "def find_smallest(stack):\n",
        "    if stack.is_empty():\n",
        "        return None\n",
        "\n",
        "    smallest = stack.pop()\n",
        "    if not stack.is_empty():\n",
        "        temp = find_smallest(stack)\n",
        "        if temp < smallest:\n",
        "            stack.push(smallest)\n",
        "            smallest = temp\n",
        "        else:\n",
        "            stack.push(temp)\n",
        "    return smallest\n",
        "\n",
        "\n",
        "if __name__ == \"__main__\":\n",
        "    my_stack = Stack()\n",
        "    my_stack.push(5)\n",
        "    my_stack.push(2)\n",
        "    my_stack.push(19)\n",
        "    my_stack.push(6)\n",
        "    my_stack.push(10)\n",
        "\n",
        "    print(\"Original Stack:\", my_stack.items)\n",
        "    smallest = find_smallest(my_stack)\n",
        "    print(\"Smallest number in the Stack:\", smallest)\n"
      ],
      "metadata": {
        "colab": {
          "base_uri": "https://localhost:8080/"
        },
        "id": "-udFv_VNnn0u",
        "outputId": "0c03c4f6-bbf2-496e-8298-d1e308e8cf76"
      },
      "execution_count": 10,
      "outputs": [
        {
          "output_type": "stream",
          "name": "stdout",
          "text": [
            "Original Stack: [5, 2, 19, 6, 10]\n",
            "Smallest number in the Stack: 2\n"
          ]
        }
      ]
    }
  ]
}